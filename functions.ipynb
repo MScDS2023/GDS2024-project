{
 "cells": [
  {
   "cell_type": "code",
   "execution_count": null,
   "metadata": {},
   "outputs": [],
   "source": [
    "import fastf1\n",
    "import pandas as pd\n",
    "import numpy as np\n",
    "import folium\n",
    "import geopandas as gpd\n",
    "import math\n",
    "from shapely.geometry import LineString\n",
    "from shapely.affinity import translate\n",
    "import matplotlib.pyplot as plt\n",
    "import contextily as cx"
   ]
  },
  {
   "cell_type": "code",
   "execution_count": null,
   "metadata": {},
   "outputs": [],
   "source": [
    "import warnings\n",
    "warnings.filterwarnings(\"ignore\")"
   ]
  },
  {
   "cell_type": "code",
   "execution_count": null,
   "metadata": {},
   "outputs": [],
   "source": [
    "session_load = fastf1.get_session(2023, 'Monza', 'R')\n",
    "session_load.load(telemetry=True, laps=True, weather=False)\n",
    "\n",
    "monza_track = gpd.read_file(\"bacinger f1-circuits master circuits/it-1922.geojson\") #This is monza\n",
    "original_centroid = monza_track.geometry.centroid.iloc[0]"
   ]
  },
  {
   "cell_type": "code",
   "execution_count": null,
   "metadata": {},
   "outputs": [],
   "source": [
    "raw_df = pd.read_csv('flask/static/raw_df.csv')\n",
    "interpolated_df = pd.read_csv('flask/static/interpolated_df.csv')"
   ]
  },
  {
   "cell_type": "code",
   "execution_count": null,
   "metadata": {},
   "outputs": [],
   "source": [
    "def get_corners(session):\n",
    "    circuit_info = session.get_circuit_info()\n",
    "    corners_df = circuit_info.corners\n",
    "    return corners_df"
   ]
  },
  {
   "cell_type": "code",
   "execution_count": null,
   "metadata": {},
   "outputs": [],
   "source": [
    "def filter_df_to_corner(data,corner,d_threshold):\n",
    "    data['Distance_to_corner'] = np.sqrt((data['X'] - get_corners(session_load)['X'].iloc[corner]) ** 2 + (data['Y'] - get_corners(session_load)['Y'].iloc[corner]) ** 2)\n",
    "\n",
    "    threshold_distance = d_threshold\n",
    "\n",
    "    filtered_df = data[data['Distance_to_corner'] < threshold_distance]\n",
    "\n",
    "    return filtered_df"
   ]
  },
  {
   "cell_type": "code",
   "execution_count": null,
   "metadata": {},
   "outputs": [],
   "source": [
    "def coordinate_shift(original_centroid, f1_api_coords):\n",
    "    \"\"\"This translates the original relative coordinates into longitude and latitude\n",
    "    original_centroid is the centroid computed from the downloaded track data\n",
    "    \"\"\"\n",
    "    centroid_lon, centroid_lat = (original_centroid.x, original_centroid.y)  \n",
    "\n",
    "\n",
    "      \n",
    "    # conversion factors - these are approximations, adjust as necessary  \n",
    "    # 1 degree of latitude is approximately 111 km, and 1 degree of longitude is approximately 111 km multiplied by the cosine of the latitude  \n",
    "    km_per_degree_lat = 1 / 111  \n",
    "    km_per_degree_lon = 1 / (111 * math.cos(math.radians(centroid_lat)))  \n",
    "    \n",
    "    # your array of tuples  \n",
    "    xy_coordinates = f1_api_coords\n",
    "    \n",
    "    # convert each tuple in the array  \n",
    "    lonlat_coordinates = []  \n",
    "    for y,x in xy_coordinates:  \n",
    "        lon = centroid_lon + (x / 10000) * km_per_degree_lon  # assuming x, y are in meters  \n",
    "        lat = centroid_lat + (y / 10000) * km_per_degree_lat  # assuming x, y are in meters  \n",
    "        lonlat_coordinates.append((lon,lat))  \n",
    "    \n",
    "\n",
    "\n",
    "    relative_line = LineString(lonlat_coordinates)\n",
    "    return relative_line\n",
    "\n",
    "\n",
    "\n",
    "def shift_centroid(relative_line,original_centroid):\n",
    "    \"\"\"This shift the centroid computed\"\"\"\n",
    "    # Calculate the distance to translate in each direction  \n",
    "    # dx = original_centroid.x - relative_line.centroid.x  \n",
    "    # dy = original_centroid.y - relative_line.centroid.y  \n",
    "    dx = -0.004091249607403924\n",
    "    dy = -0.006398742570105753\n",
    "    # Shift the LineString  \n",
    "    shifted_line = translate(relative_line, xoff=dx, yoff=dy)  \n",
    "    return shifted_line"
   ]
  },
  {
   "cell_type": "code",
   "execution_count": null,
   "metadata": {},
   "outputs": [],
   "source": [
    "def folium_plot(centroid,data,plot_type):\n",
    "    kat = folium.Map(location=[centroid.y, centroid.x], zoom_start=14, tiles='Esri.WorldImagery', attr=\"Esri\",max_zoom=19,maxNativeZoom = 19)\n",
    "    drivers = set(data['driver'])\n",
    "    laps = set(data['LapNumber'])\n",
    "\n",
    "    for lap in laps:\n",
    "        for driver in drivers:\n",
    "            if driver in ['22','31']:\n",
    "                pass\n",
    "            else:\n",
    "                data_ = data[(data['driver'] == driver) & (data['LapNumber'] == lap)]\n",
    "                coords = [(row['Y'],row['X']) for index,row in data_.iterrows()]\n",
    "                scaled_down = coordinate_shift(centroid,coords)\n",
    "                shifted_line = shift_centroid(scaled_down,centroid)\n",
    "\n",
    "\n",
    "                gdf_ = gpd.GeoDataFrame(geometry=[shifted_line], crs=\"EPSG:4326\")    \n",
    "                new_projected = gdf_.to_crs(epsg=32632)\n",
    "\n",
    "                style = {'color': 'black', 'weight': 0.4}  # Adjust weight as needed\n",
    "\n",
    "                folium.GeoJson(new_projected,style=style).add_to(kat)"
   ]
  },
  {
   "cell_type": "code",
   "execution_count": null,
   "metadata": {},
   "outputs": [],
   "source": [
    "test = filter_df_to_corner(interpolated_df,0,1000)"
   ]
  },
  {
   "cell_type": "code",
   "execution_count": null,
   "metadata": {},
   "outputs": [],
   "source": [
    "test = test[~test['driver'].isin(['22','31'])]"
   ]
  },
  {
   "cell_type": "code",
   "execution_count": null,
   "metadata": {},
   "outputs": [],
   "source": [
    "coords = [(row['Y'],row['X']) for index,row in test.iterrows()]\n",
    "scaled_down = coordinate_shift(original_centroid,coords)\n",
    "shifted_line = shift_centroid(scaled_down,original_centroid)"
   ]
  },
  {
   "cell_type": "code",
   "execution_count": null,
   "metadata": {},
   "outputs": [],
   "source": [
    "test['shifted_x'] = [x for x,y in shifted_line.coords]\n",
    "test['shifted_y'] = [y for x,y in shifted_line.coords]"
   ]
  },
  {
   "cell_type": "code",
   "execution_count": null,
   "metadata": {},
   "outputs": [],
   "source": [
    "gdf = gpd.GeoDataFrame(test, geometry=gpd.points_from_xy(test['shifted_x'], test['shifted_y']),crs=\"EPSG:4326\").reset_index(drop=True)"
   ]
  },
  {
   "cell_type": "code",
   "execution_count": null,
   "metadata": {},
   "outputs": [],
   "source": [
    "df_wm = gdf.to_crs(epsg=3857)"
   ]
  },
  {
   "cell_type": "code",
   "execution_count": null,
   "metadata": {},
   "outputs": [],
   "source": [
    "ax = df_wm.plot(column='Speed', legend=True, figsize=(14, 18), cmap='OrRd',markersize = 0.5,alpha = 0.1)\n",
    "cx.add_basemap(ax,source=cx.providers.Esri.WorldImagery)"
   ]
  }
 ],
 "metadata": {
  "kernelspec": {
   "display_name": "GDS",
   "language": "python",
   "name": "python3"
  },
  "language_info": {
   "codemirror_mode": {
    "name": "ipython",
    "version": 3
   },
   "file_extension": ".py",
   "mimetype": "text/x-python",
   "name": "python",
   "nbconvert_exporter": "python",
   "pygments_lexer": "ipython3",
   "version": "3.12.2"
  }
 },
 "nbformat": 4,
 "nbformat_minor": 2
}
