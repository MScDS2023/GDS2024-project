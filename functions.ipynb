{
 "cells": [
  {
   "cell_type": "code",
   "execution_count": null,
   "metadata": {},
   "outputs": [],
   "source": [
    "import fastf1\n",
    "import pandas as pd\n",
    "import numpy as np\n",
    "import folium\n",
    "import geopandas as gpd\n",
    "import math\n",
    "from shapely.geometry import LineString\n",
    "from shapely.affinity import translate\n",
    "import matplotlib.pyplot as plt\n",
    "import contextily as cx\n",
    "import imageio.v2 as imageio\n",
    "import os"
   ]
  },
  {
   "cell_type": "code",
   "execution_count": null,
   "metadata": {},
   "outputs": [],
   "source": [
    "import warnings\n",
    "warnings.filterwarnings(\"ignore\")"
   ]
  },
  {
   "cell_type": "code",
   "execution_count": null,
   "metadata": {},
   "outputs": [],
   "source": [
    "session_load = fastf1.get_session(2023, 'Zandvoort', 'R')\n",
    "session_load.load(telemetry=True, laps=True, weather=False)\n",
    "\n",
    "# monza_track = gpd.read_file(\"bacinger f1-circuits master circuits/it-1922.geojson\") #This is monza\n",
    "# original_centroid = monza_track.geometry.centroid.iloc[0]\n",
    "\n",
    "zandvoort_track = gpd.read_file('bacinger f1-circuits master circuits/nl-1948.geojson') #this is zandvoort\n",
    "original_centroid = zandvoort_track.geometry.centroid.iloc[0]"
   ]
  },
  {
   "cell_type": "code",
   "execution_count": null,
   "metadata": {},
   "outputs": [],
   "source": [
    "# raw_df = pd.read_csv('static/raw_df.csv')\n",
    "# interpolated_df = pd.read_csv('static/interpolated_df.csv')"
   ]
  },
  {
   "cell_type": "code",
   "execution_count": null,
   "metadata": {},
   "outputs": [],
   "source": [
    "def get_laps(session):\n",
    "    telemetry_data = dict()\n",
    "    drivers = session.drivers\n",
    "    laps = session.laps\n",
    "\n",
    "    for driver in drivers:\n",
    "        driver_telemetry = []\n",
    "        try:\n",
    "            driver_laps = laps.pick_driver(driver)\n",
    "            for lap in driver_laps.iterlaps():\n",
    "                telemetry = lap[1].get_telemetry()\n",
    "                telemetry['LapNumber'] = lap[1]['LapNumber']\n",
    "                driver_telemetry.append(telemetry)\n",
    "            telemetry_data[driver] = pd.concat(driver_telemetry, ignore_index=True)\n",
    "        except Exception as e:\n",
    "            print(f\"Error processing driver {driver}: {e}\")\n",
    "    \n",
    "    modified_dfs = []\n",
    "\n",
    "    for key, df in telemetry_data.items():\n",
    "        df['driver'] = key\n",
    "        modified_dfs.append(df)\n",
    "\n",
    "    concatenated_df = pd.concat(telemetry_data)\n",
    "\n",
    "    concatenated_df.reset_index(drop=True, inplace=True)\n",
    "    concatenated_df['LapNumber'] = concatenated_df['LapNumber'].astype(int)\n",
    "    concatenated_df = concatenated_df[(concatenated_df['Source'] == 'car') & (concatenated_df['Status'] == 'OnTrack')]\n",
    "    \n",
    "    return concatenated_df"
   ]
  },
  {
   "cell_type": "code",
   "execution_count": null,
   "metadata": {},
   "outputs": [],
   "source": [
    "def interpolate(df):\n",
    "    df_interpolated = []\n",
    "    for index,row in df.iterrows():\n",
    "        df_interpolated.append([row['LapNumber'],row['driver'],row['X'],row['Y'],row['Speed'],row['RPM'],row['nGear'], row['Throttle'],row['Brake']])\n",
    "        for i in range(15):\n",
    "            df_interpolated.append([row['LapNumber'],row['driver'],np.nan,np.nan,np.nan,np.nan,row['nGear'],row['Throttle'],row['Brake']])\n",
    "\n",
    "    df_interpolated = pd.DataFrame(df_interpolated,columns = ['LapNumber','driver','X','Y','Speed','RPM','nGear','Throttle','Brake'])\n",
    "    df_interpolated['X'] = df_interpolated['X'].interpolate(method='linear')\n",
    "    df_interpolated['Y'] = df_interpolated['Y'].interpolate(method='linear')\n",
    "    df_interpolated['Speed'] = df_interpolated['Speed'].interpolate(method='linear')\n",
    "    df_interpolated['RPM'] = df_interpolated['RPM'].interpolate(method='linear')\n",
    "\n",
    "    return df_interpolated"
   ]
  },
  {
   "cell_type": "code",
   "execution_count": null,
   "metadata": {},
   "outputs": [],
   "source": [
    "def get_corners(session):\n",
    "    circuit_info = session.get_circuit_info()\n",
    "    corners_df = circuit_info.corners\n",
    "    return corners_df"
   ]
  },
  {
   "cell_type": "code",
   "execution_count": null,
   "metadata": {},
   "outputs": [],
   "source": [
    "def filter_df_to_corner(data,corner,d_threshold):\n",
    "    data['Distance_to_corner'] = np.sqrt((data['X'] - get_corners(session_load)['X'].iloc[corner]) ** 2 + (data['Y'] - get_corners(session_load)['Y'].iloc[corner]) ** 2)\n",
    "\n",
    "    threshold_distance = d_threshold\n",
    "\n",
    "    filtered_df = data[data['Distance_to_corner'] < threshold_distance]\n",
    "\n",
    "    return filtered_df"
   ]
  },
  {
   "cell_type": "code",
   "execution_count": null,
   "metadata": {},
   "outputs": [],
   "source": [
    "def coordinate_shift(original_centroid, f1_api_coords):\n",
    "    \"\"\"This translates the original relative coordinates into longitude and latitude\n",
    "    original_centroid is the centroid computed from the downloaded track data\n",
    "    \"\"\"\n",
    "    centroid_lon, centroid_lat = (original_centroid.x, original_centroid.y)  \n",
    "\n",
    "\n",
    "      \n",
    "    # conversion factors - these are approximations, adjust as necessary  \n",
    "    # 1 degree of latitude is approximately 111 km, and 1 degree of longitude is approximately 111 km multiplied by the cosine of the latitude  \n",
    "    km_per_degree_lat = 1 / 111  \n",
    "    km_per_degree_lon = 1 / (111 * math.cos(math.radians(centroid_lat)))  \n",
    "    \n",
    "    # your array of tuples  \n",
    "    xy_coordinates = f1_api_coords\n",
    "    \n",
    "    # convert each tuple in the array  \n",
    "    lonlat_coordinates = []  \n",
    "    for y,x in xy_coordinates:  \n",
    "        lon = centroid_lon + (x / 10000) * km_per_degree_lon  # assuming x, y are in meters  \n",
    "        lat = centroid_lat + (y / 10000) * km_per_degree_lat  # assuming x, y are in meters  \n",
    "        lonlat_coordinates.append((lon,lat))  \n",
    "    \n",
    "\n",
    "\n",
    "    relative_line = LineString(lonlat_coordinates)\n",
    "    return relative_line\n",
    "\n",
    "\n",
    "\n",
    "# def shift_centroid(relative_line,original_centroid):\n",
    "#     \"\"\"This shift the centroid computed\"\"\"\n",
    "#     # Calculate the distance to translate in each direction  \n",
    "#     # dx = original_centroid.x - relative_line.centroid.x  \n",
    "#     # dy = original_centroid.y - relative_line.centroid.y  \n",
    "#     dx = -0.004091249607403924\n",
    "#     dy = -0.006398742570105753\n",
    "#     # Shift the LineString  \n",
    "#     shifted_line = translate(relative_line, xoff=dx, yoff=dy)  \n",
    "#     return shifted_line"
   ]
  },
  {
   "cell_type": "code",
   "execution_count": null,
   "metadata": {},
   "outputs": [],
   "source": [
    "def calculate_dx_dy(original_centroid, df):\n",
    "    coords = [[row['Y'],row['X']] for index,row in df.iterrows()]\n",
    "    test = coordinate_shift(original_centroid,coords)\n",
    "    dx_all = original_centroid.x - test.centroid.x\n",
    "    dy_all = original_centroid.y - test.centroid.y\n",
    "\n",
    "    return dx_all, dy_all"
   ]
  },
  {
   "cell_type": "code",
   "execution_count": null,
   "metadata": {},
   "outputs": [],
   "source": [
    "def shift_centroid_new(relative_line,dx, dy):\n",
    "    # Shift the LineString  \n",
    "    shifted_line = translate(relative_line, xoff=dx, yoff=dy)  \n",
    "    return shifted_line"
   ]
  },
  {
   "cell_type": "code",
   "execution_count": null,
   "metadata": {},
   "outputs": [],
   "source": [
    "# data = interpolate(get_laps(session_load))"
   ]
  },
  {
   "cell_type": "code",
   "execution_count": null,
   "metadata": {},
   "outputs": [],
   "source": [
    "data = data[data['LapNumber'].isin([1,2,3])]"
   ]
  },
  {
   "cell_type": "code",
   "execution_count": null,
   "metadata": {},
   "outputs": [],
   "source": [
    "def folium_plot(centroid,plot_data,df):\n",
    "    kat = folium.Map(location=[original_centroid.y, original_centroid.x], zoom_start=14, tiles='Esri.WorldImagery', attr=\"Esri\",max_zoom=19,maxNativeZoom = 19)\n",
    "    drivers = set(plot_data['driver'])\n",
    "    laps = set(plot_data['LapNumber'])\n",
    "    dx,dy = calculate_dx_dy(centroid,df)\n",
    "\n",
    "    for lap in laps:\n",
    "        for driver in drivers:\n",
    "            data_ = plot_data[(plot_data['driver'] == driver) & (plot_data['LapNumber'] == lap)]\n",
    "            coords = [(row['Y'],row['X']) for index,row in data_.iterrows()]\n",
    "            try:\n",
    "                scaled_down = coordinate_shift(centroid,coords)\n",
    "                shifted_line = shift_centroid_new(scaled_down,dx,dy)\n",
    "            except Exception as e: \n",
    "                print(e)\n",
    "\n",
    "\n",
    "\n",
    "            gdf_ = gpd.GeoDataFrame(geometry=[shifted_line], crs=\"EPSG:4326\")    \n",
    "            new_projected = gdf_.to_crs(epsg=32632)\n",
    "\n",
    "            style = {'color': 'black', 'weight': 0.4}  # Adjust weight as needed\n",
    "\n",
    "            folium.GeoJson(new_projected,style=style).add_to(kat)\n",
    "    \n",
    "    return kat"
   ]
  },
  {
   "cell_type": "code",
   "execution_count": null,
   "metadata": {},
   "outputs": [],
   "source": [
    "folium_plot(original_centroid,filter_df_to_corner(data,2,350),data)"
   ]
  },
  {
   "cell_type": "code",
   "execution_count": null,
   "metadata": {},
   "outputs": [],
   "source": [
    "def plot_all_drivers_for_lap(plot_data, lap,centroid,df,plot_type):\n",
    "    gdfs = []\n",
    "\n",
    "    dx,dy = calculate_dx_dy(centroid,df)\n",
    "\n",
    "\n",
    "    for driver in set(plot_data['driver']):\n",
    "        data = plot_data[(plot_data['driver'] == driver) & (plot_data['LapNumber'] == lap)]\n",
    "        coords = [(row['Y'], row['X']) for index, row in data.iterrows()]\n",
    "        scaled_down = coordinate_shift(centroid, coords)\n",
    "        shifted_line = shift_centroid_new(scaled_down,dx,dy)\n",
    "\n",
    "\n",
    "        data['shifted_x'] = [x for x, y in shifted_line.coords]\n",
    "        data['shifted_y'] = [y for x, y in shifted_line.coords]\n",
    "\n",
    "        if plot_type == 'Trajectory':\n",
    "\n",
    "            points = list(zip(data['shifted_x'], data['shifted_y']))\n",
    "            line = LineString(points)\n",
    "            data['geometry'] = line\n",
    "            gdf = gpd.GeoDataFrame(data, geometry='geometry', crs=\"EPSG:4326\")\n",
    "        \n",
    "        elif plot_type in ['Speed']:\n",
    "            gdf = gpd.GeoDataFrame(data, geometry=gpd.points_from_xy(data['shifted_x'], data['shifted_y']), crs=\"EPSG:4326\").reset_index(drop=True)\n",
    "\n",
    "\n",
    "\n",
    "        df_wm = gdf.to_crs(epsg=3857)\n",
    "        gdfs.append(df_wm)\n",
    "\n",
    "    # Concatenate all GeoDataFrames\n",
    "    all_gdf = gpd.GeoDataFrame(pd.concat(gdfs, ignore_index=True))\n",
    "\n",
    "    if plot_type == 'Trajectory':\n",
    "        ax = all_gdf.plot(figsize=(10,14),color = 'black',linewidth = 0.1, alpha = 1)\n",
    "    \n",
    "    elif plot_type in ['Speed']:\n",
    "        ax = all_gdf.plot(column=plot_type, legend=True, figsize=(10, 14), cmap='OrRd', markersize=0.4, alpha=1)\n",
    "\n",
    "    cx.add_basemap(ax, source=cx.providers.Esri.WorldImagery)\n",
    "    plt.title(f'Lap {lap} - All Drivers')\n",
    "    plt.tight_layout()\n",
    "    plt.savefig(f'img/{lap}Lap.png')\n",
    "    plt.close()"
   ]
  },
  {
   "cell_type": "code",
   "execution_count": null,
   "metadata": {},
   "outputs": [],
   "source": [
    "plot_all_drivers_for_lap(filter_df_to_corner(data,1,700),1,original_centroid,data,'Trajectory')"
   ]
  },
  {
   "cell_type": "code",
   "execution_count": null,
   "metadata": {},
   "outputs": [],
   "source": [
    "def plot_all_laps_all_drivers(plot_test, centroid,df):\n",
    "    # List to store GeoDataFrames for each lap and driver\n",
    "    gdfs = []\n",
    "\n",
    "    dx,dy = calculate_dx_dy(centroid,df)\n",
    "\n",
    "\n",
    "    for lap in set(plot_test['LapNumber']):\n",
    "        for driver in set(plot_test['driver']):\n",
    "            data = plot_test[(plot_test['driver'] == driver) & (plot_test['LapNumber'] == lap)]\n",
    "            coords = [(row['Y'], row['X']) for index, row in data.iterrows()]\n",
    "            scaled_down = coordinate_shift(centroid, coords)\n",
    "            shifted_line = shift_centroid_new(scaled_down, centroid)\n",
    "\n",
    "            data['shifted_x'] = [x for x, y in shifted_line.coords]\n",
    "            data['shifted_y'] = [y for x, y in shifted_line.coords]\n",
    "\n",
    "            gdf = gpd.GeoDataFrame(data, geometry=gpd.points_from_xy(data['shifted_x'], data['shifted_y']), crs=\"EPSG:4326\").reset_index(drop=True)\n",
    "            df_wm = gdf.to_crs(epsg=3857)\n",
    "            gdfs.append(df_wm)\n",
    "\n",
    "    # Concatenate all GeoDataFrames\n",
    "    all_gdf = gpd.GeoDataFrame(pd.concat(gdfs, ignore_index=True))\n",
    "\n",
    "    # Plot all laps and all drivers as points on the same plot\n",
    "    ax = all_gdf.plot(column='Speed', legend=True, figsize=(10, 14), cmap='OrRd', markersize=0.5, alpha=1)\n",
    "    cx.add_basemap(ax, source=cx.providers.Esri.WorldImagery)\n",
    "    plt.title('All Laps - All Drivers')\n",
    "    plt.grid(True)\n",
    "    plt.tight_layout()\n",
    "    plt.savefig('img/all/AllLaps_AllDrivers.png')\n",
    "    plt.close()"
   ]
  },
  {
   "cell_type": "code",
   "execution_count": null,
   "metadata": {},
   "outputs": [],
   "source": [
    "plot_all_laps_all_drivers(filter_df_to_corner(interpolated_df,1,1000),original_centroid)"
   ]
  },
  {
   "cell_type": "code",
   "execution_count": null,
   "metadata": {},
   "outputs": [],
   "source": [
    "def natural_sort_key(s):\n",
    "    return [int(text) if text.isdigit() else text.lower() for text in re.split(r'(\\d+)', s)]\n",
    "\n",
    "def create_gif(image_folder, gif_name):\n",
    "    images = []\n",
    "    for filename in sorted(os.listdir(image_folder),key = natural_sort_key):\n",
    "        if filename.endswith('.png') or filename.endswith('.jpg'):\n",
    "            images.append(imageio.imread(os.path.join(image_folder, filename)))\n",
    "    imageio.mimsave(gif_name, images, duration=500)  # Adjust duration as needed"
   ]
  },
  {
   "cell_type": "code",
   "execution_count": null,
   "metadata": {},
   "outputs": [],
   "source": [
    "image_folder = 'img'\n",
    "gif_name = 'output.gif'\n",
    "\n",
    "create_gif(image_folder, gif_name)"
   ]
  }
 ],
 "metadata": {
  "kernelspec": {
   "display_name": "GDS",
   "language": "python",
   "name": "python3"
  },
  "language_info": {
   "codemirror_mode": {
    "name": "ipython",
    "version": 3
   },
   "file_extension": ".py",
   "mimetype": "text/x-python",
   "name": "python",
   "nbconvert_exporter": "python",
   "pygments_lexer": "ipython3",
   "version": "3.12.2"
  }
 },
 "nbformat": 4,
 "nbformat_minor": 2
}
